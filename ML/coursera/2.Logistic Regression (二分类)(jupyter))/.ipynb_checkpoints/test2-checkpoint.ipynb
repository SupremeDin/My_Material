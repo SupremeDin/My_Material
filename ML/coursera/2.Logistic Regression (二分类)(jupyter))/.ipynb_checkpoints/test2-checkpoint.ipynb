{
 "cells": [
  {
   "cell_type": "code",
   "execution_count": 44,
   "metadata": {},
   "outputs": [],
   "source": [
    "import numpy as np\n",
    "import pandas as pd \n",
    "import matplotlib.pyplot as plt\n",
    "\n",
    "#1.Visualizing the data\n",
    "data = pd.read_csv('ex2data2.txt',names=['test1','test2','accepted'])\n",
    "data.head()\n",
    "data.describe()\n",
    "#现将data中的数据分成positive、negative两类，以方便作图hhhh\n",
    "positive = data[data['accepted'].isin([1])]\n",
    "negative = data[data['accepted'].isin([0])]\n",
    "#作散点图\n",
    "def plot_data():\n",
    "    fig,ax = plt.subplots(figsize=(8,5))\n",
    "    ax.scatter(positive['test1'],positive['test2'],c='b',label='accepted')\n",
    "    ax.scatter(negative['test1'],negative['test2'],c='r',marker='x',label='refused')\n",
    "    ax.legend()\n",
    "    ax.set_xlabel('test1')\n",
    "    ax.set_ylabel('test2')\n",
    "    #plt.show()\n",
    "#import Ipynb_importer  打算调用其他的module失败！后期可以查找原因\n",
    "def feature_mapping(x1,x2,power):\n",
    "    data = {}\n",
    "    for i in np.arange(power+1):\n",
    "        for p in np.arange(i+1):\n",
    "            data[\"f{}{}\".format(i-p,p)] = np.power(x1,i-p)*np.power(x2,p)\n",
    "    return pd.DataFrame(data)\n",
    "x1 = data['test1'].values\n",
    "x2 = data['test2'].values\n",
    "power = 6 \n",
    "_data = feature_mapping(x1,x2,power)\n",
    "# data 是原始的训练集（由于其特征只有两维：x1,x2）\n",
    "# _data 是在通过Feature Mapping后生成的新的训练集(新的训练集维度到达 28维)"
   ]
  },
  {
   "cell_type": "code",
   "execution_count": 24,
   "metadata": {},
   "outputs": [
    {
     "data": {
      "image/png": "[encoded data removed]",
      "text/plain": [
       "<Figure size 576x360 with 1 Axes>"
      ]
     },
     "metadata": {
      "needs_background": "light"
     },
     "output_type": "display_data"
    },
    {
     "data": {
      "text/plain": [
       "0.6931471805599454"
      ]
     },
     "execution_count": 24,
     "metadata": {},
     "output_type": "execute_result"
    }
   ],
   "source": [
    "X = _data.values\n",
    "y = data['accepted'].values\n",
    "theta = np.zeros(X.shape[1])\n",
    "#X.shape\n",
    "#y.shape\n",
    "#theta.shape\n",
    "def sigmoid(z):\n",
    "    return 1/(1 + np.exp(-z))\n",
    "#画出sigmoid函数来测试是否正确\n",
    "fig,ax = plt.subplots(figsize = [8,5])\n",
    "x = np.arange(-10,10,0.01)\n",
    "y1 = 0*x + 1\n",
    "y2 = 0*x + 0\n",
    "ax.plot(x,sigmoid(x),c='r')\n",
    "ax.plot(x,y1,c='b')\n",
    "ax.plot(x,y2,c='b')\n",
    "plt.show()\n",
    "\n",
    "#定义原始的损失函数cost()\n",
    "def cost(theta,X,y):\n",
    "    first = -y*np.log(sigmoid(X@theta))          # *在array中表示 对应元素相乘；@表示矩阵相乘（满足维度才可以）\n",
    "    second = (1-y)*np.log(1-sigmoid(X@theta))\n",
    "    return np.mean(first-second)\n",
    "#定义正则化之后的带有惩罚项的损失函数costReg()\n",
    "def costReg(theta,X,y,l=1):    #l是惩罚项的系数\n",
    "    _theta = theta[1:]       #对原始的theta进行切片，保留【第二个元素：最后一个元素】，即对theta0不做任何惩罚。\n",
    "    reg = (l/2*len(X))*(_theta@_theta)    #行向量@行向量：求inner product求向量内积（类似求向量的模）\n",
    "    return cost(theta,X,y) + reg\n",
    "cost0 = costReg(theta,X,y,l=1)\n",
    "cost0"
   ]
  },
  {
   "cell_type": "code",
   "execution_count": 34,
   "metadata": {},
   "outputs": [
    {
     "data": {
      "text/plain": [
       "array([8.47457627e-03, 1.87880932e-02, 7.77711864e-05, 5.03446395e-02,\n",
       "       1.15013308e-02, 3.76648474e-02, 1.83559872e-02, 7.32393391e-03,\n",
       "       8.19244468e-03, 2.34764889e-02, 3.93486234e-02, 2.23923907e-03,\n",
       "       1.28600503e-02, 3.09593720e-03, 3.93028171e-02, 1.99707467e-02,\n",
       "       4.32983232e-03, 3.38643902e-03, 5.83822078e-03, 4.47629067e-03,\n",
       "       3.10079849e-02, 3.10312442e-02, 1.09740238e-03, 6.31570797e-03,\n",
       "       4.08503006e-04, 7.26504316e-03, 1.37646175e-03, 3.87936363e-02])"
      ]
     },
     "execution_count": 34,
     "metadata": {},
     "output_type": "execute_result"
    }
   ],
   "source": [
    "#计算梯度gradient（是一个跟theta维度相同的行向量）（并不是梯度下降函数，即在梯度下降的过程中，theta的更新时需要减去gradient） \n",
    "def gradient(theta,X,y):         #alpha是梯度项的学习率,可以在后面选取 学习率\n",
    "    return (X.T@(sigmoid(X@theta)-y))/len(X)\n",
    "\n",
    "#计算正则化之后的梯度\n",
    "def gradientReg(theta,X,y,l=1):\n",
    "    reg = (l/len(X))*theta\n",
    "    reg[0] = 0\n",
    "    return gradient(theta,X,y) + reg     #先将两部分梯度进行加和，得到总共的梯度，最后梯度下降的时候，theta减去\n",
    "\n",
    "gradientReg(theta,X,y,1)\n"
   ]
  },
  {
   "cell_type": "code",
   "execution_count": 38,
   "metadata": {},
   "outputs": [
    {
     "data": {
      "text/plain": [
       "0.8050847457627118"
      ]
     },
     "execution_count": 38,
     "metadata": {},
     "output_type": "execute_result"
    }
   ],
   "source": [
    "import scipy.optimize as opt\n",
    "result = opt.fmin_tnc(func=costReg,x0=theta,fprime=gradientReg,args=(X,y,2))\n",
    "def predict(theta,X):\n",
    "    probability = sigmoid(X@theta)\n",
    "    return [1 if x>0.5 else 0 for x in probability]   #return a list\n",
    "final_theta = result[0]\n",
    "predictions = predict(final_theta,X)\n",
    "correct = [1 if a==b else 0 for (a,b) in zip(predictions,y)]   #is a list\n",
    "accuracy= sum(correct)/len(correct)\n",
    "accuracy"
   ]
  },
  {
   "cell_type": "code",
   "execution_count": 39,
   "metadata": {},
   "outputs": [
    {
     "name": "stdout",
     "output_type": "stream",
     "text": [
      "              precision    recall  f1-score   support\n",
      "\n",
      "           0       0.72      0.88      0.79        49\n",
      "           1       0.90      0.75      0.82        69\n",
      "\n",
      "   micro avg       0.81      0.81      0.81       118\n",
      "   macro avg       0.81      0.82      0.80       118\n",
      "weighted avg       0.82      0.81      0.81       118\n",
      "\n"
     ]
    }
   ],
   "source": [
    "#或者用sklearn中的方法来检测\n",
    "from sklearn.metrics import classification_report\n",
    "print(classification_report(predictions, y))"
   ]
  },
  {
   "cell_type": "code",
   "execution_count": 46,
   "metadata": {},
   "outputs": [
    {
     "data": {
      "text/plain": [
       "(-0.8, 1.2)"
      ]
     },
     "execution_count": 46,
     "metadata": {},
     "output_type": "execute_result"
    },
    {
     "data": {
      "image/png": "[encoded data removed]",
      "text/plain": [
       "<Figure size 576x360 with 1 Axes>"
      ]
     },
     "metadata": {
      "needs_background": "light"
     },
     "output_type": "display_data"
    }
   ],
   "source": [
    "x = np.linspace(-1, 1.5, 250)\n",
    "xx, yy = np.meshgrid(x, x)\n",
    "\n",
    "z = feature_mapping(xx.ravel(), yy.ravel(), 6).values\n",
    "z = z @ final_theta\n",
    "z = z.reshape(xx.shape)\n",
    "\n",
    "plot_data()\n",
    "plt.contour(xx, yy, z, 0)\n",
    "plt.ylim(-.8, 1.2)\n",
    "#再次强调：只能有一个plt.show()，不然的话会出现在两个图上，而非叠加在一起"
   ]
  },
  {
   "cell_type": "code",
   "execution_count": null,
   "metadata": {},
   "outputs": [],
   "source": []
  }
 ],
 "metadata": {
  "kernelspec": {
   "display_name": "Python [conda env:ML3.6] *",
   "language": "python",
   "name": "conda-env-ML3.6-py"
  },
  "language_info": {
   "codemirror_mode": {
    "name": "ipython",
    "version": 3
   },
   "file_extension": ".py",
   "mimetype": "text/x-python",
   "name": "python",
   "nbconvert_exporter": "python",
   "pygments_lexer": "ipython3",
   "version": "3.6.8"
  }
 },
 "nbformat": 4,
 "nbformat_minor": 2
}

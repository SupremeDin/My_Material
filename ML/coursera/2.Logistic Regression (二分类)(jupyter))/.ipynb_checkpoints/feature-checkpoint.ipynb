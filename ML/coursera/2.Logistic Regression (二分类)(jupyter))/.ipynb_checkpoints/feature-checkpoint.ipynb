{
 "cells": [
  {
   "cell_type": "code",
   "execution_count": 1,
   "metadata": {},
   "outputs": [],
   "source": [
    "import numpy as np \n",
    "def feature_mapping(x1,x2,power):\n",
    "    for i in np.arange(power+1):\n",
    "        for p in np.arange(i+1):\n",
    "            data[\"f{}{}\".format(i-p,p)] = np.power(x1,i-p)*np.power(x2,p)\n",
    "    return pd.DataFrame(data)"
   ]
  }
 ],
 "metadata": {
  "kernelspec": {
   "display_name": "Python [conda env:ML3.6] *",
   "language": "python",
   "name": "conda-env-ML3.6-py"
  },
  "language_info": {
   "codemirror_mode": {
    "name": "ipython",
    "version": 3
   },
   "file_extension": ".py",
   "mimetype": "text/x-python",
   "name": "python",
   "nbconvert_exporter": "python",
   "pygments_lexer": "ipython3",
   "version": "3.6.8"
  }
 },
 "nbformat": 4,
 "nbformat_minor": 2
}
